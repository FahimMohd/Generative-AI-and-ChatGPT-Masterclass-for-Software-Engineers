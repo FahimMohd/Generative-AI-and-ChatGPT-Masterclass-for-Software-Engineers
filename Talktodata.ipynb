{
 "cells": [
  {
   "cell_type": "code",
   "execution_count": 1,
   "id": "790e1000-ebef-426a-aa7c-2c8fcebe5eed",
   "metadata": {},
   "outputs": [
    {
     "name": "stdout",
     "output_type": "stream",
     "text": [
      "Requirement already satisfied: openai in c:\\users\\fahim\\appdata\\local\\programs\\python\\python311\\lib\\site-packages (1.10.0)\n",
      "Requirement already satisfied: anyio<5,>=3.5.0 in c:\\users\\fahim\\appdata\\local\\programs\\python\\python311\\lib\\site-packages (from openai) (3.7.1)\n",
      "Requirement already satisfied: distro<2,>=1.7.0 in c:\\users\\fahim\\appdata\\local\\programs\\python\\python311\\lib\\site-packages (from openai) (1.8.0)\n",
      "Requirement already satisfied: httpx<1,>=0.23.0 in c:\\users\\fahim\\appdata\\local\\programs\\python\\python311\\lib\\site-packages (from openai) (0.25.1)\n",
      "Requirement already satisfied: pydantic<3,>=1.9.0 in c:\\users\\fahim\\appdata\\local\\programs\\python\\python311\\lib\\site-packages (from openai) (1.10.13)\n",
      "Requirement already satisfied: sniffio in c:\\users\\fahim\\appdata\\local\\programs\\python\\python311\\lib\\site-packages (from openai) (1.3.0)\n",
      "Requirement already satisfied: tqdm>4 in c:\\users\\fahim\\appdata\\local\\programs\\python\\python311\\lib\\site-packages (from openai) (4.66.1)\n",
      "Requirement already satisfied: typing-extensions<5,>=4.7 in c:\\users\\fahim\\appdata\\local\\programs\\python\\python311\\lib\\site-packages (from openai) (4.8.0)\n",
      "Requirement already satisfied: idna>=2.8 in c:\\users\\fahim\\appdata\\local\\programs\\python\\python311\\lib\\site-packages (from anyio<5,>=3.5.0->openai) (3.4)\n",
      "Requirement already satisfied: certifi in c:\\users\\fahim\\appdata\\local\\programs\\python\\python311\\lib\\site-packages (from httpx<1,>=0.23.0->openai) (2023.7.22)\n",
      "Requirement already satisfied: httpcore in c:\\users\\fahim\\appdata\\local\\programs\\python\\python311\\lib\\site-packages (from httpx<1,>=0.23.0->openai) (1.0.2)\n",
      "Requirement already satisfied: colorama in c:\\users\\fahim\\appdata\\local\\programs\\python\\python311\\lib\\site-packages (from tqdm>4->openai) (0.4.6)\n",
      "Requirement already satisfied: h11<0.15,>=0.13 in c:\\users\\fahim\\appdata\\local\\programs\\python\\python311\\lib\\site-packages (from httpcore->httpx<1,>=0.23.0->openai) (0.14.0)\n",
      "Note: you may need to restart the kernel to use updated packages.\n"
     ]
    },
    {
     "name": "stderr",
     "output_type": "stream",
     "text": [
      "\n",
      "[notice] A new release of pip is available: 23.3.2 -> 24.0\n",
      "[notice] To update, run: python.exe -m pip install --upgrade pip\n"
     ]
    }
   ],
   "source": [
    "pip install openai"
   ]
  },
  {
   "cell_type": "code",
   "execution_count": 2,
   "id": "c3e2652f-cdf2-4bcb-9095-97374b1e6d1b",
   "metadata": {},
   "outputs": [],
   "source": [
    "import os"
   ]
  },
  {
   "cell_type": "code",
   "execution_count": 3,
   "id": "81f7898a-a8b5-4dfd-9733-fc8736ad1a05",
   "metadata": {},
   "outputs": [],
   "source": [
    "from openai import OpenAI\n",
    "OpenAI.api_key = os.getenv('OPENAI_API_KEY')\n",
    "client = OpenAI()"
   ]
  },
  {
   "cell_type": "code",
   "execution_count": 17,
   "id": "1b43a4e1-8af5-466e-8b20-cf212c817f5c",
   "metadata": {},
   "outputs": [],
   "source": [
    "#pip install --upgrade pandasai"
   ]
  },
  {
   "cell_type": "code",
   "execution_count": 18,
   "id": "ad93db95-db96-43cf-8d1b-1cbb6de3078c",
   "metadata": {},
   "outputs": [
    {
     "name": "stdout",
     "output_type": "stream",
     "text": [
      "Requirement already satisfied: pandasai==1.4.10 in c:\\users\\fahim\\appdata\\local\\programs\\python\\python311\\lib\\site-packages (1.4.10)\n",
      "Requirement already satisfied: astor<0.9.0,>=0.8.1 in c:\\users\\fahim\\appdata\\local\\programs\\python\\python311\\lib\\site-packages (from pandasai==1.4.10) (0.8.1)\n",
      "Requirement already satisfied: duckdb<0.9.0,>=0.8.1 in c:\\users\\fahim\\appdata\\local\\programs\\python\\python311\\lib\\site-packages (from pandasai==1.4.10) (0.8.1)\n",
      "Requirement already satisfied: ipython<9.0.0,>=8.13.1 in c:\\users\\fahim\\appdata\\local\\programs\\python\\python311\\lib\\site-packages (from pandasai==1.4.10) (8.17.2)\n",
      "Requirement already satisfied: matplotlib<4.0.0,>=3.7.1 in c:\\users\\fahim\\appdata\\local\\programs\\python\\python311\\lib\\site-packages (from pandasai==1.4.10) (3.8.1)\n",
      "Requirement already satisfied: openai<2.0.0,>=1.0.0 in c:\\users\\fahim\\appdata\\local\\programs\\python\\python311\\lib\\site-packages (from pandasai==1.4.10) (1.10.0)\n",
      "Requirement already satisfied: pandas==1.5.3 in c:\\users\\fahim\\appdata\\local\\programs\\python\\python311\\lib\\site-packages (from pandasai==1.4.10) (1.5.3)\n",
      "Requirement already satisfied: pydantic<2,>=1 in c:\\users\\fahim\\appdata\\local\\programs\\python\\python311\\lib\\site-packages (from pandasai==1.4.10) (1.10.13)\n",
      "Requirement already satisfied: python-dotenv<2.0.0,>=1.0.0 in c:\\users\\fahim\\appdata\\local\\programs\\python\\python311\\lib\\site-packages (from pandasai==1.4.10) (1.0.0)\n",
      "Requirement already satisfied: scipy<2.0.0,>=1.9.0 in c:\\users\\fahim\\appdata\\local\\programs\\python\\python311\\lib\\site-packages (from pandasai==1.4.10) (1.11.3)\n",
      "Requirement already satisfied: sqlalchemy<2.0.0,>=1.4.49 in c:\\users\\fahim\\appdata\\local\\programs\\python\\python311\\lib\\site-packages (from pandasai==1.4.10) (1.4.50)\n",
      "Requirement already satisfied: python-dateutil>=2.8.1 in c:\\users\\fahim\\appdata\\local\\programs\\python\\python311\\lib\\site-packages (from pandas==1.5.3->pandasai==1.4.10) (2.8.2)\n",
      "Requirement already satisfied: pytz>=2020.1 in c:\\users\\fahim\\appdata\\local\\programs\\python\\python311\\lib\\site-packages (from pandas==1.5.3->pandasai==1.4.10) (2023.3.post1)\n",
      "Requirement already satisfied: numpy>=1.21.0 in c:\\users\\fahim\\appdata\\local\\programs\\python\\python311\\lib\\site-packages (from pandas==1.5.3->pandasai==1.4.10) (1.26.0)\n",
      "Requirement already satisfied: decorator in c:\\users\\fahim\\appdata\\local\\programs\\python\\python311\\lib\\site-packages (from ipython<9.0.0,>=8.13.1->pandasai==1.4.10) (5.1.1)\n",
      "Requirement already satisfied: jedi>=0.16 in c:\\users\\fahim\\appdata\\local\\programs\\python\\python311\\lib\\site-packages (from ipython<9.0.0,>=8.13.1->pandasai==1.4.10) (0.19.1)\n",
      "Requirement already satisfied: matplotlib-inline in c:\\users\\fahim\\appdata\\local\\programs\\python\\python311\\lib\\site-packages (from ipython<9.0.0,>=8.13.1->pandasai==1.4.10) (0.1.6)\n",
      "Requirement already satisfied: prompt-toolkit!=3.0.37,<3.1.0,>=3.0.30 in c:\\users\\fahim\\appdata\\local\\programs\\python\\python311\\lib\\site-packages (from ipython<9.0.0,>=8.13.1->pandasai==1.4.10) (3.0.41)\n",
      "Requirement already satisfied: pygments>=2.4.0 in c:\\users\\fahim\\appdata\\local\\programs\\python\\python311\\lib\\site-packages (from ipython<9.0.0,>=8.13.1->pandasai==1.4.10) (2.16.1)\n",
      "Requirement already satisfied: stack-data in c:\\users\\fahim\\appdata\\local\\programs\\python\\python311\\lib\\site-packages (from ipython<9.0.0,>=8.13.1->pandasai==1.4.10) (0.6.3)\n",
      "Requirement already satisfied: traitlets>=5 in c:\\users\\fahim\\appdata\\local\\programs\\python\\python311\\lib\\site-packages (from ipython<9.0.0,>=8.13.1->pandasai==1.4.10) (5.13.0)\n",
      "Requirement already satisfied: colorama in c:\\users\\fahim\\appdata\\local\\programs\\python\\python311\\lib\\site-packages (from ipython<9.0.0,>=8.13.1->pandasai==1.4.10) (0.4.6)\n",
      "Requirement already satisfied: contourpy>=1.0.1 in c:\\users\\fahim\\appdata\\local\\programs\\python\\python311\\lib\\site-packages (from matplotlib<4.0.0,>=3.7.1->pandasai==1.4.10) (1.2.0)\n",
      "Requirement already satisfied: cycler>=0.10 in c:\\users\\fahim\\appdata\\local\\programs\\python\\python311\\lib\\site-packages (from matplotlib<4.0.0,>=3.7.1->pandasai==1.4.10) (0.12.1)\n",
      "Requirement already satisfied: fonttools>=4.22.0 in c:\\users\\fahim\\appdata\\local\\programs\\python\\python311\\lib\\site-packages (from matplotlib<4.0.0,>=3.7.1->pandasai==1.4.10) (4.44.3)\n",
      "Requirement already satisfied: kiwisolver>=1.3.1 in c:\\users\\fahim\\appdata\\local\\programs\\python\\python311\\lib\\site-packages (from matplotlib<4.0.0,>=3.7.1->pandasai==1.4.10) (1.4.5)\n",
      "Requirement already satisfied: packaging>=20.0 in c:\\users\\fahim\\appdata\\local\\programs\\python\\python311\\lib\\site-packages (from matplotlib<4.0.0,>=3.7.1->pandasai==1.4.10) (23.2)\n",
      "Requirement already satisfied: pillow>=8 in c:\\users\\fahim\\appdata\\local\\programs\\python\\python311\\lib\\site-packages (from matplotlib<4.0.0,>=3.7.1->pandasai==1.4.10) (10.1.0)\n",
      "Requirement already satisfied: pyparsing>=2.3.1 in c:\\users\\fahim\\appdata\\local\\programs\\python\\python311\\lib\\site-packages (from matplotlib<4.0.0,>=3.7.1->pandasai==1.4.10) (3.1.1)\n",
      "Requirement already satisfied: anyio<5,>=3.5.0 in c:\\users\\fahim\\appdata\\local\\programs\\python\\python311\\lib\\site-packages (from openai<2.0.0,>=1.0.0->pandasai==1.4.10) (3.7.1)\n",
      "Requirement already satisfied: distro<2,>=1.7.0 in c:\\users\\fahim\\appdata\\local\\programs\\python\\python311\\lib\\site-packages (from openai<2.0.0,>=1.0.0->pandasai==1.4.10) (1.8.0)\n",
      "Requirement already satisfied: httpx<1,>=0.23.0 in c:\\users\\fahim\\appdata\\local\\programs\\python\\python311\\lib\\site-packages (from openai<2.0.0,>=1.0.0->pandasai==1.4.10) (0.25.1)\n",
      "Requirement already satisfied: sniffio in c:\\users\\fahim\\appdata\\local\\programs\\python\\python311\\lib\\site-packages (from openai<2.0.0,>=1.0.0->pandasai==1.4.10) (1.3.0)\n",
      "Requirement already satisfied: tqdm>4 in c:\\users\\fahim\\appdata\\local\\programs\\python\\python311\\lib\\site-packages (from openai<2.0.0,>=1.0.0->pandasai==1.4.10) (4.66.1)\n",
      "Requirement already satisfied: typing-extensions<5,>=4.7 in c:\\users\\fahim\\appdata\\local\\programs\\python\\python311\\lib\\site-packages (from openai<2.0.0,>=1.0.0->pandasai==1.4.10) (4.8.0)\n",
      "Requirement already satisfied: greenlet!=0.4.17 in c:\\users\\fahim\\appdata\\local\\programs\\python\\python311\\lib\\site-packages (from sqlalchemy<2.0.0,>=1.4.49->pandasai==1.4.10) (3.0.1)\n",
      "Requirement already satisfied: idna>=2.8 in c:\\users\\fahim\\appdata\\local\\programs\\python\\python311\\lib\\site-packages (from anyio<5,>=3.5.0->openai<2.0.0,>=1.0.0->pandasai==1.4.10) (3.4)\n",
      "Requirement already satisfied: certifi in c:\\users\\fahim\\appdata\\local\\programs\\python\\python311\\lib\\site-packages (from httpx<1,>=0.23.0->openai<2.0.0,>=1.0.0->pandasai==1.4.10) (2023.7.22)\n",
      "Requirement already satisfied: httpcore in c:\\users\\fahim\\appdata\\local\\programs\\python\\python311\\lib\\site-packages (from httpx<1,>=0.23.0->openai<2.0.0,>=1.0.0->pandasai==1.4.10) (1.0.2)\n",
      "Requirement already satisfied: parso<0.9.0,>=0.8.3 in c:\\users\\fahim\\appdata\\local\\programs\\python\\python311\\lib\\site-packages (from jedi>=0.16->ipython<9.0.0,>=8.13.1->pandasai==1.4.10) (0.8.3)\n",
      "Requirement already satisfied: wcwidth in c:\\users\\fahim\\appdata\\local\\programs\\python\\python311\\lib\\site-packages (from prompt-toolkit!=3.0.37,<3.1.0,>=3.0.30->ipython<9.0.0,>=8.13.1->pandasai==1.4.10) (0.2.10)\n",
      "Requirement already satisfied: six>=1.5 in c:\\users\\fahim\\appdata\\local\\programs\\python\\python311\\lib\\site-packages (from python-dateutil>=2.8.1->pandas==1.5.3->pandasai==1.4.10) (1.16.0)\n",
      "Requirement already satisfied: executing>=1.2.0 in c:\\users\\fahim\\appdata\\local\\programs\\python\\python311\\lib\\site-packages (from stack-data->ipython<9.0.0,>=8.13.1->pandasai==1.4.10) (2.0.1)\n",
      "Requirement already satisfied: asttokens>=2.1.0 in c:\\users\\fahim\\appdata\\local\\programs\\python\\python311\\lib\\site-packages (from stack-data->ipython<9.0.0,>=8.13.1->pandasai==1.4.10) (2.4.1)\n",
      "Requirement already satisfied: pure-eval in c:\\users\\fahim\\appdata\\local\\programs\\python\\python311\\lib\\site-packages (from stack-data->ipython<9.0.0,>=8.13.1->pandasai==1.4.10) (0.2.2)\n",
      "Requirement already satisfied: h11<0.15,>=0.13 in c:\\users\\fahim\\appdata\\local\\programs\\python\\python311\\lib\\site-packages (from httpcore->httpx<1,>=0.23.0->openai<2.0.0,>=1.0.0->pandasai==1.4.10) (0.14.0)\n",
      "Note: you may need to restart the kernel to use updated packages.\n"
     ]
    },
    {
     "name": "stderr",
     "output_type": "stream",
     "text": [
      "\n",
      "[notice] A new release of pip is available: 23.3.2 -> 24.0\n",
      "[notice] To update, run: python.exe -m pip install --upgrade pip\n"
     ]
    }
   ],
   "source": [
    "pip install pandasai==1.4.10"
   ]
  },
  {
   "cell_type": "code",
   "execution_count": 7,
   "id": "44fb454d-d3c1-430a-a293-6e2c6567db47",
   "metadata": {},
   "outputs": [],
   "source": [
    "import pandas as pd"
   ]
  },
  {
   "cell_type": "code",
   "execution_count": 8,
   "id": "e3496e77-3ab5-4004-80b3-4ec380357204",
   "metadata": {},
   "outputs": [],
   "source": [
    "from pandasai import SmartDataframe"
   ]
  },
  {
   "cell_type": "code",
   "execution_count": 9,
   "id": "c2fcddc1-1f16-4787-b14a-e646e967aef1",
   "metadata": {},
   "outputs": [],
   "source": [
    "df1 = pd.read_csv('CC.csv')"
   ]
  },
  {
   "cell_type": "code",
   "execution_count": 10,
   "id": "933db8bd-e00f-46f6-83c9-008b9f72fa30",
   "metadata": {},
   "outputs": [
    {
     "name": "stdout",
     "output_type": "stream",
     "text": [
      "            Time         V1         V2        V3        V4        V5  \\\n",
      "0            0.0  -1.359807  -0.072781  2.536347  1.378155 -0.338321   \n",
      "1            0.0   1.191857   0.266151  0.166480  0.448154  0.060018   \n",
      "2            1.0  -1.358354  -1.340163  1.773209  0.379780 -0.503198   \n",
      "3            1.0  -0.966272  -0.185226  1.792993 -0.863291 -0.010309   \n",
      "4            2.0  -1.158233   0.877737  1.548718  0.403034 -0.407193   \n",
      "...          ...        ...        ...       ...       ...       ...   \n",
      "284802  172786.0 -11.881118  10.071785 -9.834783 -2.066656 -5.364473   \n",
      "284803  172787.0  -0.732789  -0.055080  2.035030 -0.738589  0.868229   \n",
      "284804  172788.0   1.919565  -0.301254 -3.249640 -0.557828  2.630515   \n",
      "284805  172788.0  -0.240440   0.530483  0.702510  0.689799 -0.377961   \n",
      "284806  172792.0  -0.533413  -0.189733  0.703337 -0.506271 -0.012546   \n",
      "\n",
      "              V6        V7        V8        V9  ...       V21       V22  \\\n",
      "0       0.462388  0.239599  0.098698  0.363787  ... -0.018307  0.277838   \n",
      "1      -0.082361 -0.078803  0.085102 -0.255425  ... -0.225775 -0.638672   \n",
      "2       1.800499  0.791461  0.247676 -1.514654  ...  0.247998  0.771679   \n",
      "3       1.247203  0.237609  0.377436 -1.387024  ... -0.108300  0.005274   \n",
      "4       0.095921  0.592941 -0.270533  0.817739  ... -0.009431  0.798278   \n",
      "...          ...       ...       ...       ...  ...       ...       ...   \n",
      "284802 -2.606837 -4.918215  7.305334  1.914428  ...  0.213454  0.111864   \n",
      "284803  1.058415  0.024330  0.294869  0.584800  ...  0.214205  0.924384   \n",
      "284804  3.031260 -0.296827  0.708417  0.432454  ...  0.232045  0.578229   \n",
      "284805  0.623708 -0.686180  0.679145  0.392087  ...  0.265245  0.800049   \n",
      "284806 -0.649617  1.577006 -0.414650  0.486180  ...  0.261057  0.643078   \n",
      "\n",
      "             V23       V24       V25       V26       V27       V28  Amount  \\\n",
      "0      -0.110474  0.066928  0.128539 -0.189115  0.133558 -0.021053  149.62   \n",
      "1       0.101288 -0.339846  0.167170  0.125895 -0.008983  0.014724    2.69   \n",
      "2       0.909412 -0.689281 -0.327642 -0.139097 -0.055353 -0.059752  378.66   \n",
      "3      -0.190321 -1.175575  0.647376 -0.221929  0.062723  0.061458  123.50   \n",
      "4      -0.137458  0.141267 -0.206010  0.502292  0.219422  0.215153   69.99   \n",
      "...          ...       ...       ...       ...       ...       ...     ...   \n",
      "284802  1.014480 -0.509348  1.436807  0.250034  0.943651  0.823731    0.77   \n",
      "284803  0.012463 -1.016226 -0.606624 -0.395255  0.068472 -0.053527   24.79   \n",
      "284804 -0.037501  0.640134  0.265745 -0.087371  0.004455 -0.026561   67.88   \n",
      "284805 -0.163298  0.123205 -0.569159  0.546668  0.108821  0.104533   10.00   \n",
      "284806  0.376777  0.008797 -0.473649 -0.818267 -0.002415  0.013649  217.00   \n",
      "\n",
      "        Fraud  \n",
      "0           0  \n",
      "1           0  \n",
      "2           0  \n",
      "3           0  \n",
      "4           0  \n",
      "...       ...  \n",
      "284802      0  \n",
      "284803      0  \n",
      "284804      0  \n",
      "284805      0  \n",
      "284806      0  \n",
      "\n",
      "[284807 rows x 31 columns]\n"
     ]
    }
   ],
   "source": [
    "print(df1)"
   ]
  },
  {
   "cell_type": "code",
   "execution_count": 11,
   "id": "2782e78e-2697-486d-be98-c211d85403f4",
   "metadata": {},
   "outputs": [],
   "source": [
    "from pandasai.llm.openai import OpenAI\n",
    "llm = OpenAI(api_token=os.getenv('OPENAI_API_KEY'))"
   ]
  },
  {
   "cell_type": "code",
   "execution_count": 12,
   "id": "d9d13dfb-5992-4ca1-8108-14ccc28d60dc",
   "metadata": {},
   "outputs": [],
   "source": [
    "df = SmartDataframe(df1, config={\"llm\":llm})"
   ]
  },
  {
   "cell_type": "code",
   "execution_count": 13,
   "id": "26d97dc9-207d-4d55-9f59-071dc8228995",
   "metadata": {},
   "outputs": [
    {
     "data": {
      "text/plain": [
       "'The count of transactions where Fraud is 1 is 492.'"
      ]
     },
     "execution_count": 13,
     "metadata": {},
     "output_type": "execute_result"
    }
   ],
   "source": [
    "df.chat('What is the count of transactions where Fraud is 1?')"
   ]
  },
  {
   "cell_type": "code",
   "execution_count": 14,
   "id": "e30b6cc9-5aef-443d-982d-6e6dcb038d8e",
   "metadata": {},
   "outputs": [
    {
     "data": {
      "text/plain": [
       "'The correlation coefficient between Amount and Fraud is 0.005631753006768562.'"
      ]
     },
     "execution_count": 14,
     "metadata": {},
     "output_type": "execute_result"
    }
   ],
   "source": [
    "df.chat('Is there a relation between Amount and Fraud ?')"
   ]
  },
  {
   "cell_type": "code",
   "execution_count": 15,
   "id": "79891bef-7458-4077-998a-49627b8aa858",
   "metadata": {},
   "outputs": [
    {
     "data": {
      "text/plain": [
       "'The column with the highest correlation to Fraud is V11.'"
      ]
     },
     "execution_count": 15,
     "metadata": {},
     "output_type": "execute_result"
    }
   ],
   "source": [
    "df.chat('Is there a relation between any of the columns and Fraud ?')"
   ]
  },
  {
   "cell_type": "code",
   "execution_count": 16,
   "id": "eae426e0-c467-42d1-ad9c-d888960b74af",
   "metadata": {},
   "outputs": [
    {
     "data": {
      "text/plain": [
       "0.15487564474449475"
      ]
     },
     "execution_count": 16,
     "metadata": {},
     "output_type": "execute_result"
    }
   ],
   "source": [
    "df.chat('Give me the correlation coefficient between Fraud & V11')"
   ]
  }
 ],
 "metadata": {
  "kernelspec": {
   "display_name": "Python 3 (ipykernel)",
   "language": "python",
   "name": "python3"
  },
  "language_info": {
   "codemirror_mode": {
    "name": "ipython",
    "version": 3
   },
   "file_extension": ".py",
   "mimetype": "text/x-python",
   "name": "python",
   "nbconvert_exporter": "python",
   "pygments_lexer": "ipython3",
   "version": "3.11.5"
  }
 },
 "nbformat": 4,
 "nbformat_minor": 5
}
