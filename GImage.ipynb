{
 "cells": [
  {
   "cell_type": "code",
   "execution_count": 1,
   "id": "593166ef-7962-4bb3-9e9d-ef8195c4ec9d",
   "metadata": {},
   "outputs": [
    {
     "name": "stdout",
     "output_type": "stream",
     "text": [
      "Note: you may need to restart the kernel to use updated packages.\n"
     ]
    }
   ],
   "source": [
    "pip install -q -U google-generativeai"
   ]
  },
  {
   "cell_type": "code",
   "execution_count": 2,
   "id": "0157c967-8aca-4b1a-9bff-72ac0008bea5",
   "metadata": {},
   "outputs": [
    {
     "name": "stdout",
     "output_type": "stream",
     "text": [
      "Requirement already satisfied: IPython in c:\\users\\fahim\\appdata\\local\\programs\\python\\python311\\lib\\site-packages (8.17.2)\n",
      "Requirement already satisfied: decorator in c:\\users\\fahim\\appdata\\local\\programs\\python\\python311\\lib\\site-packages (from IPython) (5.1.1)\n",
      "Requirement already satisfied: jedi>=0.16 in c:\\users\\fahim\\appdata\\local\\programs\\python\\python311\\lib\\site-packages (from IPython) (0.19.1)\n",
      "Requirement already satisfied: matplotlib-inline in c:\\users\\fahim\\appdata\\local\\programs\\python\\python311\\lib\\site-packages (from IPython) (0.1.6)\n",
      "Requirement already satisfied: prompt-toolkit!=3.0.37,<3.1.0,>=3.0.30 in c:\\users\\fahim\\appdata\\local\\programs\\python\\python311\\lib\\site-packages (from IPython) (3.0.41)\n",
      "Requirement already satisfied: pygments>=2.4.0 in c:\\users\\fahim\\appdata\\local\\programs\\python\\python311\\lib\\site-packages (from IPython) (2.16.1)\n",
      "Requirement already satisfied: stack-data in c:\\users\\fahim\\appdata\\local\\programs\\python\\python311\\lib\\site-packages (from IPython) (0.6.3)\n",
      "Requirement already satisfied: traitlets>=5 in c:\\users\\fahim\\appdata\\local\\programs\\python\\python311\\lib\\site-packages (from IPython) (5.13.0)\n",
      "Requirement already satisfied: colorama in c:\\users\\fahim\\appdata\\local\\programs\\python\\python311\\lib\\site-packages (from IPython) (0.4.6)\n",
      "Requirement already satisfied: parso<0.9.0,>=0.8.3 in c:\\users\\fahim\\appdata\\local\\programs\\python\\python311\\lib\\site-packages (from jedi>=0.16->IPython) (0.8.3)\n",
      "Requirement already satisfied: wcwidth in c:\\users\\fahim\\appdata\\local\\programs\\python\\python311\\lib\\site-packages (from prompt-toolkit!=3.0.37,<3.1.0,>=3.0.30->IPython) (0.2.10)\n",
      "Requirement already satisfied: executing>=1.2.0 in c:\\users\\fahim\\appdata\\local\\programs\\python\\python311\\lib\\site-packages (from stack-data->IPython) (2.0.1)\n",
      "Requirement already satisfied: asttokens>=2.1.0 in c:\\users\\fahim\\appdata\\local\\programs\\python\\python311\\lib\\site-packages (from stack-data->IPython) (2.4.1)\n",
      "Requirement already satisfied: pure-eval in c:\\users\\fahim\\appdata\\local\\programs\\python\\python311\\lib\\site-packages (from stack-data->IPython) (0.2.2)\n",
      "Requirement already satisfied: six>=1.12.0 in c:\\users\\fahim\\appdata\\local\\programs\\python\\python311\\lib\\site-packages (from asttokens>=2.1.0->stack-data->IPython) (1.16.0)\n",
      "Note: you may need to restart the kernel to use updated packages.\n"
     ]
    }
   ],
   "source": [
    "pip install IPython"
   ]
  },
  {
   "cell_type": "code",
   "execution_count": 3,
   "id": "ea241087-5e65-4fea-9f3c-2b1ab5bfd370",
   "metadata": {},
   "outputs": [
    {
     "name": "stderr",
     "output_type": "stream",
     "text": [
      "C:\\Users\\Fahim\\AppData\\Local\\Programs\\Python\\Python311\\Lib\\site-packages\\tqdm\\auto.py:21: TqdmWarning: IProgress not found. Please update jupyter and ipywidgets. See https://ipywidgets.readthedocs.io/en/stable/user_install.html\n",
      "  from .autonotebook import tqdm as notebook_tqdm\n"
     ]
    }
   ],
   "source": [
    "import pathlib\n",
    "import textwrap\n",
    "\n",
    "import google.generativeai as genai\n",
    "\n",
    "# Used to securely store your API key\n",
    "#from google.colab import userdata\n",
    "\n",
    "from IPython.display import display\n",
    "from IPython.display import Markdown\n",
    "\n",
    "\n",
    "def to_markdown(text):\n",
    "  text = text.replace('•', '  *')\n",
    "  return Markdown(textwrap.indent(text, '> ', predicate=lambda _: True))"
   ]
  },
  {
   "cell_type": "code",
   "execution_count": 4,
   "id": "f3b0c56f-a4f6-477c-92c0-47c525ebebd2",
   "metadata": {},
   "outputs": [],
   "source": [
    "import os\n",
    "GOOGLE_API_KEY=os.getenv('GOOGLE_API_KEY')\n",
    "\n",
    "genai.configure(api_key=GOOGLE_API_KEY)"
   ]
  },
  {
   "cell_type": "code",
   "execution_count": 5,
   "id": "969c2464-0d31-47d2-aa49-f29becfbe2d4",
   "metadata": {},
   "outputs": [],
   "source": [
    "model = genai.GenerativeModel('gemini-pro-vision')"
   ]
  },
  {
   "cell_type": "code",
   "execution_count": 6,
   "id": "723431b4-6602-42e2-bec1-d7b029b77572",
   "metadata": {},
   "outputs": [],
   "source": [
    "from PIL import Image\n",
    "\n",
    "# Load the image file\n",
    "image = Image.open(\"pizza.jpg\")\n",
    "\n",
    "# Assign the image to a variable\n",
    "my_image = image"
   ]
  },
  {
   "cell_type": "code",
   "execution_count": 7,
   "id": "fb2b1bd2-89e3-4ba1-b10f-345a5078bd34",
   "metadata": {},
   "outputs": [
    {
     "data": {
      "text/markdown": [
       ">  A Margherita pizza is a pizza topped with tomato sauce, thin tomato slices, round slices of mozzarella cheese, and thin slices of basil. The pizza is named after Queen Margherita of Savoy, who was the wife of King Umberto I of Italy. The pizza was first created in 1889 by Raffaele Esposito, a pizzaiolo from Naples. The pizza was a hit with the queen, and it quickly became one of the most popular pizzas in the world."
      ],
      "text/plain": [
       "<IPython.core.display.Markdown object>"
      ]
     },
     "execution_count": 7,
     "metadata": {},
     "output_type": "execute_result"
    }
   ],
   "source": [
    "response = model.generate_content(my_image)\n",
    "\n",
    "to_markdown(response.text)"
   ]
  },
  {
   "cell_type": "code",
   "execution_count": 10,
   "id": "69108f5c-80a7-4964-bc3c-042e0070e5af",
   "metadata": {},
   "outputs": [],
   "source": [
    "response = model.generate_content([\"Create a blog of 1000 words that will be about how to prepare a dish from given image\", my_image], stream=True)\n",
    "response.resolve()"
   ]
  },
  {
   "cell_type": "code",
   "execution_count": 11,
   "id": "664e8787-275d-4058-8a18-d3f9f66ac624",
   "metadata": {},
   "outputs": [
    {
     "data": {
      "text/markdown": [
       ">  Pizza is a delicious and versatile dish that can be enjoyed by people of all ages. It is a popular choice for parties and gatherings, and it can also be a quick and easy meal for busy families. There are many different ways to make pizza, and the toppings are endless. This blog post will provide you with a basic recipe for pizza dough and sauce, as well as some tips for making a great pizza.\n",
       "> \n",
       "> **Ingredients for Pizza Dough:**\n",
       "> \n",
       "> * 1 packet of active dry yeast\n",
       "> * 1 teaspoon of sugar\n",
       "> * 1 cup of warm water\n",
       "> * 2 tablespoons of olive oil\n",
       "> * 1 teaspoon of salt\n",
       "> * 3 cups of all-purpose flour\n",
       "> \n",
       "> **Instructions for Making Pizza Dough:**\n",
       "> \n",
       "> 1. In a large bowl, combine the yeast, sugar, and warm water. Let sit for 5 minutes, until the yeast is foamy.\n",
       "> 2. Add the olive oil, salt, and flour to the bowl. Stir until the dough comes together and forms a ball.\n",
       "> 3. Turn the dough out onto a floured surface and knead for 5-7 minutes, until the dough is smooth and elastic.\n",
       "> 4. Place the dough in a greased bowl, cover it with plastic wrap, and let rise in a warm place for 1 hour, or until the dough has doubled in size.\n",
       "> \n",
       "> **Ingredients for Pizza Sauce:**\n",
       "> \n",
       "> * 1 can of crushed tomatoes\n",
       "> * 1 tablespoon of olive oil\n",
       "> * 1 teaspoon of dried oregano\n",
       "> * 1 teaspoon of dried basil\n",
       "> * 1/2 teaspoon of salt\n",
       "> * 1/4 teaspoon of black pepper\n",
       "> \n",
       "> **Instructions for Making Pizza Sauce:**\n",
       "> \n",
       "> 1. In a saucepan, heat the olive oil over medium heat. Add the crushed tomatoes, oregano, basil, salt, and pepper.\n",
       "> 2. Bring the sauce to a simmer and let it simmer for 15 minutes, stirring occasionally.\n",
       "> \n",
       "> **Assembly and Baking Instructions:**\n",
       "> \n",
       "> 1. Preheat the oven to 450 degrees Fahrenheit.\n",
       "> 2. Punch down the dough and divide it in half. Roll out each half into a 12-inch circle.\n",
       "> 3. Place the dough on a greased baking sheet.\n",
       "> 4. Spread the pizza sauce over the dough.\n",
       "> 5. Top the sauce with your favorite toppings.\n",
       "> 6. Bake the pizza in the preheated oven for 10-12 minutes, until the crust is golden brown and the cheese is melted and bubbly.\n",
       "> 7. Let the pizza cool for a few minutes before slicing and serving.\n",
       "> \n",
       "> **Tips for Making a Great Pizza:**\n",
       "> \n",
       "> * Use fresh, high-quality ingredients.\n",
       "> * Make sure the dough is well-kneaded and has risen properly.\n",
       "> * Don't overcrowd the pizza with toppings.\n",
       "> * Bake the pizza at a high temperature so that the crust gets crispy.\n",
       "> * Let the pizza cool for a few minutes before slicing and serving.\n",
       "> \n",
       "> With these tips, you'll be able to make a delicious and authentic pizza at home. So next time you're in the mood for pizza, don't order takeout - make your own!"
      ],
      "text/plain": [
       "<IPython.core.display.Markdown object>"
      ]
     },
     "execution_count": 11,
     "metadata": {},
     "output_type": "execute_result"
    }
   ],
   "source": [
    "response.resolve()\n",
    "to_markdown(response.text)"
   ]
  }
 ],
 "metadata": {
  "kernelspec": {
   "display_name": "Python 3 (ipykernel)",
   "language": "python",
   "name": "python3"
  },
  "language_info": {
   "codemirror_mode": {
    "name": "ipython",
    "version": 3
   },
   "file_extension": ".py",
   "mimetype": "text/x-python",
   "name": "python",
   "nbconvert_exporter": "python",
   "pygments_lexer": "ipython3",
   "version": "3.11.5"
  }
 },
 "nbformat": 4,
 "nbformat_minor": 5
}
