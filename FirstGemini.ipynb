{
 "cells": [
  {
   "cell_type": "code",
   "execution_count": 1,
   "id": "92cf282e-931e-4df7-b8a0-59612d620cb7",
   "metadata": {},
   "outputs": [
    {
     "name": "stdout",
     "output_type": "stream",
     "text": [
      "Note: you may need to restart the kernel to use updated packages.\n"
     ]
    }
   ],
   "source": [
    "pip install -q -U google-generativeai"
   ]
  },
  {
   "cell_type": "code",
   "execution_count": 2,
   "id": "e77bded3-9953-45bf-88b8-a44ce7b7a5a3",
   "metadata": {},
   "outputs": [
    {
     "name": "stdout",
     "output_type": "stream",
     "text": [
      "Requirement already satisfied: IPython in c:\\users\\fahim\\appdata\\local\\programs\\python\\python311\\lib\\site-packages (8.17.2)\n",
      "Requirement already satisfied: decorator in c:\\users\\fahim\\appdata\\local\\programs\\python\\python311\\lib\\site-packages (from IPython) (5.1.1)\n",
      "Requirement already satisfied: jedi>=0.16 in c:\\users\\fahim\\appdata\\local\\programs\\python\\python311\\lib\\site-packages (from IPython) (0.19.1)\n",
      "Requirement already satisfied: matplotlib-inline in c:\\users\\fahim\\appdata\\local\\programs\\python\\python311\\lib\\site-packages (from IPython) (0.1.6)\n",
      "Requirement already satisfied: prompt-toolkit!=3.0.37,<3.1.0,>=3.0.30 in c:\\users\\fahim\\appdata\\local\\programs\\python\\python311\\lib\\site-packages (from IPython) (3.0.41)\n",
      "Requirement already satisfied: pygments>=2.4.0 in c:\\users\\fahim\\appdata\\local\\programs\\python\\python311\\lib\\site-packages (from IPython) (2.16.1)\n",
      "Requirement already satisfied: stack-data in c:\\users\\fahim\\appdata\\local\\programs\\python\\python311\\lib\\site-packages (from IPython) (0.6.3)\n",
      "Requirement already satisfied: traitlets>=5 in c:\\users\\fahim\\appdata\\local\\programs\\python\\python311\\lib\\site-packages (from IPython) (5.13.0)\n",
      "Requirement already satisfied: colorama in c:\\users\\fahim\\appdata\\local\\programs\\python\\python311\\lib\\site-packages (from IPython) (0.4.6)\n",
      "Requirement already satisfied: parso<0.9.0,>=0.8.3 in c:\\users\\fahim\\appdata\\local\\programs\\python\\python311\\lib\\site-packages (from jedi>=0.16->IPython) (0.8.3)\n",
      "Requirement already satisfied: wcwidth in c:\\users\\fahim\\appdata\\local\\programs\\python\\python311\\lib\\site-packages (from prompt-toolkit!=3.0.37,<3.1.0,>=3.0.30->IPython) (0.2.10)\n",
      "Requirement already satisfied: executing>=1.2.0 in c:\\users\\fahim\\appdata\\local\\programs\\python\\python311\\lib\\site-packages (from stack-data->IPython) (2.0.1)\n",
      "Requirement already satisfied: asttokens>=2.1.0 in c:\\users\\fahim\\appdata\\local\\programs\\python\\python311\\lib\\site-packages (from stack-data->IPython) (2.4.1)\n",
      "Requirement already satisfied: pure-eval in c:\\users\\fahim\\appdata\\local\\programs\\python\\python311\\lib\\site-packages (from stack-data->IPython) (0.2.2)\n",
      "Requirement already satisfied: six>=1.12.0 in c:\\users\\fahim\\appdata\\local\\programs\\python\\python311\\lib\\site-packages (from asttokens>=2.1.0->stack-data->IPython) (1.16.0)\n",
      "Note: you may need to restart the kernel to use updated packages.\n"
     ]
    }
   ],
   "source": [
    "pip install IPython"
   ]
  },
  {
   "cell_type": "code",
   "execution_count": 3,
   "id": "5ded8898-b95a-4b4a-8055-8f920869abe6",
   "metadata": {},
   "outputs": [
    {
     "name": "stderr",
     "output_type": "stream",
     "text": [
      "C:\\Users\\Fahim\\AppData\\Local\\Programs\\Python\\Python311\\Lib\\site-packages\\tqdm\\auto.py:21: TqdmWarning: IProgress not found. Please update jupyter and ipywidgets. See https://ipywidgets.readthedocs.io/en/stable/user_install.html\n",
      "  from .autonotebook import tqdm as notebook_tqdm\n"
     ]
    }
   ],
   "source": [
    "import pathlib\n",
    "import textwrap\n",
    "\n",
    "import google.generativeai as genai\n",
    "\n",
    "# Used to securely store your API key\n",
    "#from google.colab import userdata\n",
    "\n",
    "from IPython.display import display\n",
    "from IPython.display import Markdown\n",
    "\n",
    "\n",
    "def to_markdown(text):\n",
    "  text = text.replace('•', '  *')\n",
    "  return Markdown(textwrap.indent(text, '> ', predicate=lambda _: True))"
   ]
  },
  {
   "cell_type": "code",
   "execution_count": 4,
   "id": "e3dfb941-71f2-4295-bdcc-85e060357a26",
   "metadata": {},
   "outputs": [],
   "source": [
    "import os\n",
    "GOOGLE_API_KEY=os.getenv('GOOGLE_API_KEY')\n",
    "\n",
    "genai.configure(api_key=GOOGLE_API_KEY)"
   ]
  },
  {
   "cell_type": "code",
   "execution_count": 5,
   "id": "07ea765e-9bcb-4215-a765-d9291e03221d",
   "metadata": {},
   "outputs": [
    {
     "name": "stdout",
     "output_type": "stream",
     "text": [
      "models/gemini-pro\n",
      "models/gemini-pro-vision\n"
     ]
    }
   ],
   "source": [
    "for m in genai.list_models():\n",
    "  if 'generateContent' in m.supported_generation_methods:\n",
    "    print(m.name)"
   ]
  },
  {
   "cell_type": "code",
   "execution_count": 6,
   "id": "0cbdd6a1-dad3-4e9c-a18e-71aabc20af55",
   "metadata": {},
   "outputs": [],
   "source": [
    "model = genai.GenerativeModel('gemini-pro')"
   ]
  },
  {
   "cell_type": "code",
   "execution_count": 7,
   "id": "1bc77c76-ef93-4559-9a6a-0ae8470842a1",
   "metadata": {},
   "outputs": [],
   "source": [
    "response = model.generate_content(\"Tell me something about Life\")"
   ]
  },
  {
   "cell_type": "code",
   "execution_count": 8,
   "id": "aecac525-3c62-4472-a16e-5b9ff5dc95e1",
   "metadata": {},
   "outputs": [
    {
     "data": {
      "text/markdown": [
       "> 1. **Life is a mystery:** The origin of life is still unknown, and scientists are still trying to understand how the first living organisms came to exist. Life's complexity and diversity are immense, and there is still much that we do not understand about how it works.\n",
       "> \n",
       "> \n",
       "> 2. **Life is resilient:** Life has survived and thrived in a wide variety of environments, from the extreme heat of deserts to the freezing cold of Antarctica. It has adapted to changes in climate, sea level, and atmospheric composition. Life's resilience is a testament to its ability to survive and thrive even in the most challenging conditions.\n",
       "> \n",
       "> \n",
       "> 3. **Life is interconnected:** All living things are connected to each other in a web of life. This web is complex and interdependent, and changes in one part of the web can have ripple effects throughout the entire system. The interconnectedness of life is essential for the survival of all species, including humans.\n",
       "> \n",
       "> \n",
       "> 4. **Life is precious:** Life is a gift, and it is something that should be cherished. Every living thing has value, and we should do everything we can to protect and preserve life.\n",
       "> \n",
       "> \n",
       "> 5. **Life is meaningful:** Life has meaning and purpose, even if we do not always understand what it is. We can find meaning in our relationships with others, in our work, in our hobbies, or in our spiritual beliefs. Finding meaning in life is essential for our well-being and happiness.\n",
       "> \n",
       "> \n",
       "> 6. **Life is short:** Life is short, and we should make the most of it. We should strive to live our lives to the fullest and to make a positive impact on the world. We should never take life for granted, and we should always appreciate the time that we have.\n",
       "> \n",
       "> \n",
       "> 7. **Life is beautiful:** Life is full of beauty, and we should take the time to appreciate it. We can find beauty in nature, in art, in music, in literature, and in our relationships with others. Appreciating the beauty of life can help us to live happier and more fulfilling lives."
      ],
      "text/plain": [
       "<IPython.core.display.Markdown object>"
      ]
     },
     "execution_count": 8,
     "metadata": {},
     "output_type": "execute_result"
    }
   ],
   "source": [
    "to_markdown(response.text)"
   ]
  }
 ],
 "metadata": {
  "kernelspec": {
   "display_name": "Python 3 (ipykernel)",
   "language": "python",
   "name": "python3"
  },
  "language_info": {
   "codemirror_mode": {
    "name": "ipython",
    "version": 3
   },
   "file_extension": ".py",
   "mimetype": "text/x-python",
   "name": "python",
   "nbconvert_exporter": "python",
   "pygments_lexer": "ipython3",
   "version": "3.11.5"
  }
 },
 "nbformat": 4,
 "nbformat_minor": 5
}
