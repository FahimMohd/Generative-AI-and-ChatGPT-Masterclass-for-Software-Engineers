{
 "cells": [
  {
   "cell_type": "code",
   "execution_count": 1,
   "id": "b9ee4641-6942-4a96-b900-ae0ddeb6d418",
   "metadata": {},
   "outputs": [
    {
     "name": "stdout",
     "output_type": "stream",
     "text": [
      "Requirement already satisfied: langchain-openai in c:\\users\\fahim\\appdata\\local\\programs\\python\\python311\\lib\\site-packages (0.0.5)\n",
      "Requirement already satisfied: langchain-core<0.2,>=0.1.16 in c:\\users\\fahim\\appdata\\local\\programs\\python\\python311\\lib\\site-packages (from langchain-openai) (0.1.17)\n",
      "Requirement already satisfied: numpy<2,>=1 in c:\\users\\fahim\\appdata\\local\\programs\\python\\python311\\lib\\site-packages (from langchain-openai) (1.26.0)\n",
      "Requirement already satisfied: openai<2.0.0,>=1.10.0 in c:\\users\\fahim\\appdata\\local\\programs\\python\\python311\\lib\\site-packages (from langchain-openai) (1.10.0)\n",
      "Requirement already satisfied: tiktoken<0.6.0,>=0.5.2 in c:\\users\\fahim\\appdata\\local\\programs\\python\\python311\\lib\\site-packages (from langchain-openai) (0.5.2)\n",
      "Requirement already satisfied: PyYAML>=5.3 in c:\\users\\fahim\\appdata\\local\\programs\\python\\python311\\lib\\site-packages (from langchain-core<0.2,>=0.1.16->langchain-openai) (6.0.1)\n",
      "Requirement already satisfied: anyio<5,>=3 in c:\\users\\fahim\\appdata\\local\\programs\\python\\python311\\lib\\site-packages (from langchain-core<0.2,>=0.1.16->langchain-openai) (3.7.1)\n",
      "Requirement already satisfied: jsonpatch<2.0,>=1.33 in c:\\users\\fahim\\appdata\\local\\programs\\python\\python311\\lib\\site-packages (from langchain-core<0.2,>=0.1.16->langchain-openai) (1.33)\n",
      "Requirement already satisfied: langsmith<0.1,>=0.0.83 in c:\\users\\fahim\\appdata\\local\\programs\\python\\python311\\lib\\site-packages (from langchain-core<0.2,>=0.1.16->langchain-openai) (0.0.84)\n",
      "Requirement already satisfied: packaging<24.0,>=23.2 in c:\\users\\fahim\\appdata\\local\\programs\\python\\python311\\lib\\site-packages (from langchain-core<0.2,>=0.1.16->langchain-openai) (23.2)\n",
      "Requirement already satisfied: pydantic<3,>=1 in c:\\users\\fahim\\appdata\\local\\programs\\python\\python311\\lib\\site-packages (from langchain-core<0.2,>=0.1.16->langchain-openai) (1.10.13)\n",
      "Requirement already satisfied: requests<3,>=2 in c:\\users\\fahim\\appdata\\local\\programs\\python\\python311\\lib\\site-packages (from langchain-core<0.2,>=0.1.16->langchain-openai) (2.31.0)\n",
      "Requirement already satisfied: tenacity<9.0.0,>=8.1.0 in c:\\users\\fahim\\appdata\\local\\programs\\python\\python311\\lib\\site-packages (from langchain-core<0.2,>=0.1.16->langchain-openai) (8.2.3)\n",
      "Requirement already satisfied: distro<2,>=1.7.0 in c:\\users\\fahim\\appdata\\local\\programs\\python\\python311\\lib\\site-packages (from openai<2.0.0,>=1.10.0->langchain-openai) (1.8.0)\n",
      "Requirement already satisfied: httpx<1,>=0.23.0 in c:\\users\\fahim\\appdata\\local\\programs\\python\\python311\\lib\\site-packages (from openai<2.0.0,>=1.10.0->langchain-openai) (0.25.1)\n",
      "Requirement already satisfied: sniffio in c:\\users\\fahim\\appdata\\local\\programs\\python\\python311\\lib\\site-packages (from openai<2.0.0,>=1.10.0->langchain-openai) (1.3.0)\n",
      "Requirement already satisfied: tqdm>4 in c:\\users\\fahim\\appdata\\local\\programs\\python\\python311\\lib\\site-packages (from openai<2.0.0,>=1.10.0->langchain-openai) (4.66.1)\n",
      "Requirement already satisfied: typing-extensions<5,>=4.7 in c:\\users\\fahim\\appdata\\local\\programs\\python\\python311\\lib\\site-packages (from openai<2.0.0,>=1.10.0->langchain-openai) (4.8.0)\n",
      "Requirement already satisfied: regex>=2022.1.18 in c:\\users\\fahim\\appdata\\local\\programs\\python\\python311\\lib\\site-packages (from tiktoken<0.6.0,>=0.5.2->langchain-openai) (2023.10.3)\n",
      "Requirement already satisfied: idna>=2.8 in c:\\users\\fahim\\appdata\\local\\programs\\python\\python311\\lib\\site-packages (from anyio<5,>=3->langchain-core<0.2,>=0.1.16->langchain-openai) (3.4)\n",
      "Requirement already satisfied: certifi in c:\\users\\fahim\\appdata\\local\\programs\\python\\python311\\lib\\site-packages (from httpx<1,>=0.23.0->openai<2.0.0,>=1.10.0->langchain-openai) (2023.7.22)\n",
      "Requirement already satisfied: httpcore in c:\\users\\fahim\\appdata\\local\\programs\\python\\python311\\lib\\site-packages (from httpx<1,>=0.23.0->openai<2.0.0,>=1.10.0->langchain-openai) (1.0.2)\n",
      "Requirement already satisfied: jsonpointer>=1.9 in c:\\users\\fahim\\appdata\\local\\programs\\python\\python311\\lib\\site-packages (from jsonpatch<2.0,>=1.33->langchain-core<0.2,>=0.1.16->langchain-openai) (2.4)\n",
      "Requirement already satisfied: charset-normalizer<4,>=2 in c:\\users\\fahim\\appdata\\local\\programs\\python\\python311\\lib\\site-packages (from requests<3,>=2->langchain-core<0.2,>=0.1.16->langchain-openai) (3.3.0)\n",
      "Requirement already satisfied: urllib3<3,>=1.21.1 in c:\\users\\fahim\\appdata\\local\\programs\\python\\python311\\lib\\site-packages (from requests<3,>=2->langchain-core<0.2,>=0.1.16->langchain-openai) (2.0.5)\n",
      "Requirement already satisfied: colorama in c:\\users\\fahim\\appdata\\local\\programs\\python\\python311\\lib\\site-packages (from tqdm>4->openai<2.0.0,>=1.10.0->langchain-openai) (0.4.6)\n",
      "Requirement already satisfied: h11<0.15,>=0.13 in c:\\users\\fahim\\appdata\\local\\programs\\python\\python311\\lib\\site-packages (from httpcore->httpx<1,>=0.23.0->openai<2.0.0,>=1.10.0->langchain-openai) (0.14.0)\n",
      "Note: you may need to restart the kernel to use updated packages.\n"
     ]
    },
    {
     "name": "stderr",
     "output_type": "stream",
     "text": [
      "\n",
      "[notice] A new release of pip is available: 23.3.2 -> 24.0\n",
      "[notice] To update, run: python.exe -m pip install --upgrade pip\n"
     ]
    }
   ],
   "source": [
    "pip install langchain-openai"
   ]
  },
  {
   "cell_type": "code",
   "execution_count": 2,
   "id": "217b8fdf-10bd-4ffe-8021-49e887e1ed93",
   "metadata": {},
   "outputs": [],
   "source": [
    "#export OPENAI_API_KEY='..'"
   ]
  },
  {
   "cell_type": "code",
   "execution_count": 3,
   "id": "f7487384-532a-4260-8789-2aef5b116dc7",
   "metadata": {},
   "outputs": [],
   "source": [
    "from langchain_openai import ChatOpenAI"
   ]
  },
  {
   "cell_type": "code",
   "execution_count": 4,
   "id": "ed1c53db-348a-45bd-aee4-c466bbcf2885",
   "metadata": {},
   "outputs": [],
   "source": [
    "llm = ChatOpenAI(model=\"gpt-3.5-turbo\", temperature=0)"
   ]
  },
  {
   "cell_type": "code",
   "execution_count": 5,
   "id": "979fdb66-b978-43f9-b6de-852ff3a0930a",
   "metadata": {},
   "outputs": [
    {
     "data": {
      "text/plain": [
       "'Langsmith can help in testing by providing automated testing tools and frameworks that can be used to write and execute test cases. It can also help in generating test data, analyzing test results, and identifying bugs and issues in the software. Additionally, Langsmith can assist in creating and maintaining test scripts, running tests in different environments, and integrating testing into the software development process. Overall, Langsmith can streamline the testing process and improve the efficiency and effectiveness of testing efforts.'"
      ]
     },
     "execution_count": 5,
     "metadata": {},
     "output_type": "execute_result"
    }
   ],
   "source": [
    "llm.invoke(\"how can langsmith help in testing?\").content"
   ]
  },
  {
   "cell_type": "code",
   "execution_count": 6,
   "id": "21f025d2-f7d6-4689-804e-3830bf2575e7",
   "metadata": {},
   "outputs": [],
   "source": [
    "from langchain_core.prompts import ChatPromptTemplate\n",
    "prompt = ChatPromptTemplate.from_messages([\n",
    "    (\"system\", \"You are world-class technical documentation writer\"),\n",
    "    (\"user\",\"{input}\")\n",
    "])"
   ]
  },
  {
   "cell_type": "code",
   "execution_count": 7,
   "id": "165ece49-9f90-426d-be0e-0c98d83f63d1",
   "metadata": {},
   "outputs": [],
   "source": [
    "chain = prompt | llm"
   ]
  },
  {
   "cell_type": "code",
   "execution_count": 8,
   "id": "be0801ec-fa6d-4947-8220-8604c869877f",
   "metadata": {},
   "outputs": [
    {
     "data": {
      "text/plain": [
       "AIMessage(content='Langsmith can be a valuable tool in testing by providing automated language testing capabilities. Here are some ways in which Langsmith can help in testing:\\n\\n1. Language Compatibility Testing: Langsmith can be used to test the compatibility of software applications with different languages and locales. It can help identify any language-specific issues or bugs that may arise when the application is used in different language settings.\\n\\n2. Localization Testing: Langsmith can assist in testing the localization of software applications by automatically generating and testing localized versions of the application in different languages. This can help ensure that the application functions correctly and displays content accurately in various languages.\\n\\n3. Automated Language Testing: Langsmith can automate the process of testing language-related features in software applications, such as text rendering, input validation, and language-specific functionality. This can help save time and effort in manual testing and ensure comprehensive language coverage.\\n\\n4. Language Quality Assurance: Langsmith can be used to perform quality assurance checks on language-related content, such as translations, text formatting, and language consistency. It can help identify and fix language errors and inconsistencies before the software is released to users.\\n\\nOverall, Langsmith can streamline the language testing process, improve testing efficiency, and help ensure the quality and accuracy of language-related features in software applications.')"
      ]
     },
     "execution_count": 8,
     "metadata": {},
     "output_type": "execute_result"
    }
   ],
   "source": [
    "chain.invoke({\"input\":\"how can langsmith help in testing?\"})"
   ]
  },
  {
   "cell_type": "code",
   "execution_count": 9,
   "id": "b7c60024-2564-41dc-98dc-c080d279f868",
   "metadata": {},
   "outputs": [],
   "source": [
    "from langchain_core.output_parsers import StrOutputParser\n",
    "\n",
    "output_parser = StrOutputParser ()"
   ]
  },
  {
   "cell_type": "code",
   "execution_count": 10,
   "id": "61711263-81e9-4985-9825-945863dc2e2c",
   "metadata": {},
   "outputs": [],
   "source": [
    "chain = prompt | llm | output_parser"
   ]
  },
  {
   "cell_type": "code",
   "execution_count": 11,
   "id": "86039027-d871-4c96-9b27-f1966a1926d2",
   "metadata": {},
   "outputs": [
    {
     "data": {
      "text/plain": [
       "'Langsmith can be a valuable tool in testing for a variety of reasons:\\n\\n1. **Automated Testing**: Langsmith can be used to generate test cases automatically based on the specifications provided. This can help in creating a comprehensive set of test cases that cover various scenarios and edge cases.\\n\\n2. **Test Data Generation**: Langsmith can be used to generate realistic and diverse test data for testing purposes. This can help in ensuring that the application is tested thoroughly with different types of data inputs.\\n\\n3. **Test Scenario Generation**: Langsmith can be used to generate test scenarios based on the requirements and specifications of the application. This can help in identifying potential issues and ensuring that the application functions as expected in different scenarios.\\n\\n4. **Regression Testing**: Langsmith can be used to automate regression testing by generating test cases for previously identified issues and ensuring that they have been fixed in the latest version of the application.\\n\\n5. **Load Testing**: Langsmith can be used to generate a large number of test cases to simulate heavy loads on the application. This can help in identifying performance bottlenecks and ensuring that the application can handle a high volume of traffic.\\n\\nOverall, Langsmith can help in improving the efficiency and effectiveness of testing by automating various aspects of the testing process and ensuring thorough test coverage.'"
      ]
     },
     "execution_count": 11,
     "metadata": {},
     "output_type": "execute_result"
    }
   ],
   "source": [
    "chain.invoke({\"input\":\"how can langsmith help in testing?\"})"
   ]
  }
 ],
 "metadata": {
  "kernelspec": {
   "display_name": "Python 3 (ipykernel)",
   "language": "python",
   "name": "python3"
  },
  "language_info": {
   "codemirror_mode": {
    "name": "ipython",
    "version": 3
   },
   "file_extension": ".py",
   "mimetype": "text/x-python",
   "name": "python",
   "nbconvert_exporter": "python",
   "pygments_lexer": "ipython3",
   "version": "3.11.5"
  }
 },
 "nbformat": 4,
 "nbformat_minor": 5
}
