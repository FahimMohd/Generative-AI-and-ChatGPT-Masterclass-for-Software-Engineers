{
 "cells": [
  {
   "cell_type": "code",
   "execution_count": 1,
   "id": "f954e9c6-7a77-4111-a6b4-451aca06b489",
   "metadata": {},
   "outputs": [
    {
     "name": "stdout",
     "output_type": "stream",
     "text": [
      "Note: you may need to restart the kernel to use updated packages.\n"
     ]
    }
   ],
   "source": [
    "pip install -q -U google-generativeai"
   ]
  },
  {
   "cell_type": "code",
   "execution_count": 2,
   "id": "6803617f-2a7d-46ae-9d1b-40950c03ce29",
   "metadata": {},
   "outputs": [
    {
     "name": "stdout",
     "output_type": "stream",
     "text": [
      "Requirement already satisfied: IPython in c:\\users\\fahim\\appdata\\local\\programs\\python\\python311\\lib\\site-packages (8.17.2)\n",
      "Requirement already satisfied: decorator in c:\\users\\fahim\\appdata\\local\\programs\\python\\python311\\lib\\site-packages (from IPython) (5.1.1)\n",
      "Requirement already satisfied: jedi>=0.16 in c:\\users\\fahim\\appdata\\local\\programs\\python\\python311\\lib\\site-packages (from IPython) (0.19.1)\n",
      "Requirement already satisfied: matplotlib-inline in c:\\users\\fahim\\appdata\\local\\programs\\python\\python311\\lib\\site-packages (from IPython) (0.1.6)\n",
      "Requirement already satisfied: prompt-toolkit!=3.0.37,<3.1.0,>=3.0.30 in c:\\users\\fahim\\appdata\\local\\programs\\python\\python311\\lib\\site-packages (from IPython) (3.0.41)\n",
      "Requirement already satisfied: pygments>=2.4.0 in c:\\users\\fahim\\appdata\\local\\programs\\python\\python311\\lib\\site-packages (from IPython) (2.16.1)\n",
      "Requirement already satisfied: stack-data in c:\\users\\fahim\\appdata\\local\\programs\\python\\python311\\lib\\site-packages (from IPython) (0.6.3)\n",
      "Requirement already satisfied: traitlets>=5 in c:\\users\\fahim\\appdata\\local\\programs\\python\\python311\\lib\\site-packages (from IPython) (5.13.0)\n",
      "Requirement already satisfied: colorama in c:\\users\\fahim\\appdata\\local\\programs\\python\\python311\\lib\\site-packages (from IPython) (0.4.6)\n",
      "Requirement already satisfied: parso<0.9.0,>=0.8.3 in c:\\users\\fahim\\appdata\\local\\programs\\python\\python311\\lib\\site-packages (from jedi>=0.16->IPython) (0.8.3)\n",
      "Requirement already satisfied: wcwidth in c:\\users\\fahim\\appdata\\local\\programs\\python\\python311\\lib\\site-packages (from prompt-toolkit!=3.0.37,<3.1.0,>=3.0.30->IPython) (0.2.10)\n",
      "Requirement already satisfied: executing>=1.2.0 in c:\\users\\fahim\\appdata\\local\\programs\\python\\python311\\lib\\site-packages (from stack-data->IPython) (2.0.1)\n",
      "Requirement already satisfied: asttokens>=2.1.0 in c:\\users\\fahim\\appdata\\local\\programs\\python\\python311\\lib\\site-packages (from stack-data->IPython) (2.4.1)\n",
      "Requirement already satisfied: pure-eval in c:\\users\\fahim\\appdata\\local\\programs\\python\\python311\\lib\\site-packages (from stack-data->IPython) (0.2.2)\n",
      "Requirement already satisfied: six>=1.12.0 in c:\\users\\fahim\\appdata\\local\\programs\\python\\python311\\lib\\site-packages (from asttokens>=2.1.0->stack-data->IPython) (1.16.0)\n",
      "Note: you may need to restart the kernel to use updated packages.\n"
     ]
    }
   ],
   "source": [
    "pip install IPython"
   ]
  },
  {
   "cell_type": "code",
   "execution_count": 3,
   "id": "8cca98ff-fc2c-4dd5-842c-6e83a0af03da",
   "metadata": {},
   "outputs": [
    {
     "name": "stderr",
     "output_type": "stream",
     "text": [
      "C:\\Users\\Fahim\\AppData\\Local\\Programs\\Python\\Python311\\Lib\\site-packages\\tqdm\\auto.py:21: TqdmWarning: IProgress not found. Please update jupyter and ipywidgets. See https://ipywidgets.readthedocs.io/en/stable/user_install.html\n",
      "  from .autonotebook import tqdm as notebook_tqdm\n"
     ]
    }
   ],
   "source": [
    "import pathlib\n",
    "import textwrap\n",
    "\n",
    "import google.generativeai as genai\n",
    "\n",
    "# Used to securely store your API key\n",
    "#from google.colab import userdata\n",
    "\n",
    "from IPython.display import display\n",
    "from IPython.display import Markdown\n",
    "\n",
    "\n",
    "def to_markdown(text):\n",
    "  text = text.replace('•', '  *')\n",
    "  return Markdown(textwrap.indent(text, '> ', predicate=lambda _: True))"
   ]
  },
  {
   "cell_type": "code",
   "execution_count": 4,
   "id": "32fd30bb-5437-4f04-a644-d569ac4f1d5c",
   "metadata": {},
   "outputs": [],
   "source": [
    "import os\n",
    "GOOGLE_API_KEY=os.getenv('GOOGLE_API_KEY')\n",
    "\n",
    "genai.configure(api_key=GOOGLE_API_KEY)"
   ]
  },
  {
   "cell_type": "code",
   "execution_count": 5,
   "id": "1ac00958-8a5f-48c2-8b76-05357e1572d2",
   "metadata": {},
   "outputs": [],
   "source": [
    "model = genai.GenerativeModel('gemini-pro-vision')"
   ]
  },
  {
   "cell_type": "code",
   "execution_count": 6,
   "id": "526c7d24-e0b0-49f7-bb7c-4d510a0e7e38",
   "metadata": {},
   "outputs": [],
   "source": [
    "from PIL import Image"
   ]
  },
  {
   "cell_type": "code",
   "execution_count": 7,
   "id": "8f0e47b9-ca39-450c-a510-b017b78b62e1",
   "metadata": {},
   "outputs": [],
   "source": [
    "image = Image.open(\"pizza.jpg\")"
   ]
  },
  {
   "cell_type": "code",
   "execution_count": 8,
   "id": "97178145-7704-4310-ae1a-23b866c8838e",
   "metadata": {},
   "outputs": [],
   "source": [
    "my_image = image"
   ]
  },
  {
   "cell_type": "code",
   "execution_count": 9,
   "id": "2ca80fab-a1e9-4d66-b382-2debd2b2f96e",
   "metadata": {},
   "outputs": [
    {
     "data": {
      "text/markdown": [
       ">  A Margherita pizza is a pizza topped with tomato sauce, thin tomato slices, round slices of mozzarella cheese, and thin slices of basil. The pizza is named after Queen Margherita of Savoy, who was the wife of King Umberto I of Italy. The pizza was first created in 1889 by Raffaele Esposito, a pizzaiolo from Naples. The pizza was a hit with the queen, and it quickly became one of the most popular pizzas in the world.\n",
       "> \n",
       "> The Margherita pizza is a simple pizza, but it is also a delicious one. The combination of fresh tomatoes, mozzarella cheese, and basil is classic, and it is hard to beat. The pizza is also relatively easy to make, so it is a great option for a home-cooked meal.\n",
       "> \n",
       "> If you are looking for a delicious and easy-to-make pizza, the Margherita pizza is a great option. It is a classic pizza that is sure to please everyone."
      ],
      "text/plain": [
       "<IPython.core.display.Markdown object>"
      ]
     },
     "execution_count": 9,
     "metadata": {},
     "output_type": "execute_result"
    }
   ],
   "source": [
    "response = model.generate_content(my_image)\n",
    "\n",
    "to_markdown(response.text)"
   ]
  },
  {
   "cell_type": "code",
   "execution_count": 11,
   "id": "fe0bd4c8-551a-4fd2-8a16-1c4642403914",
   "metadata": {},
   "outputs": [],
   "source": [
    "response = model.generate_content([\"Create a blog of 1000 words that will be about how to prepare a dish from given image\",my_image], stream = True)"
   ]
  },
  {
   "cell_type": "code",
   "execution_count": 12,
   "id": "e64c9886-12e8-44cf-8eec-d23f365b5ef8",
   "metadata": {},
   "outputs": [
    {
     "data": {
      "text/markdown": [
       ">  Pizza is a delicious and versatile dish that can be enjoyed by people of all ages. It is a popular choice for parties and gatherings, and it can also be a quick and easy meal for busy families. There are many different ways to make pizza, and the toppings are endless. This blog post will provide you with a basic recipe for pizza dough and sauce, as well as some tips for making a great pizza.\n",
       "> \n",
       "> **Pizza Dough:**\n",
       "> \n",
       "> Ingredients:\n",
       "> \n",
       "> * 1 packet of active dry yeast\n",
       "> * 1 teaspoon of sugar\n",
       "> * 1 cup of warm water\n",
       "> * 2 tablespoons of olive oil\n",
       "> * 2 teaspoons of salt\n",
       "> * 3 cups of all-purpose flour\n",
       "> \n",
       "> Instructions:\n",
       "> \n",
       "> 1. In a large bowl, combine the yeast, sugar, and warm water. Let sit for 5 minutes, until the yeast is foamy.\n",
       "> 2. Add the olive oil, salt, and flour to the bowl. Stir until the dough comes together and forms a ball.\n",
       "> 3. Turn the dough out onto a floured surface and knead for 5-7 minutes, until the dough is smooth and elastic.\n",
       "> 4. Place the dough in a greased bowl, cover it with plastic wrap, and let rise in a warm place for 1 hour, or until the dough has doubled in size.\n",
       "> \n",
       "> **Pizza Sauce:**\n",
       "> \n",
       "> Ingredients:\n",
       "> \n",
       "> * 1 can of crushed tomatoes\n",
       "> * 1 tablespoon of olive oil\n",
       "> * 1 teaspoon of dried oregano\n",
       "> * 1 teaspoon of dried basil\n",
       "> * 1/2 teaspoon of salt\n",
       "> * 1/4 teaspoon of black pepper\n",
       "> \n",
       "> Instructions:\n",
       "> \n",
       "> 1. In a saucepan, heat the olive oil over medium heat. Add the crushed tomatoes, oregano, basil, salt, and pepper.\n",
       "> 2. Bring the sauce to a simmer and cook for 15 minutes, stirring occasionally.\n",
       "> \n",
       "> **Assembly:**\n",
       "> \n",
       "> 1. Preheat the oven to 450 degrees Fahrenheit.\n",
       "> 2. Roll out the pizza dough into a 12-inch circle.\n",
       "> 3. Spread the pizza sauce over the dough, leaving a 1-inch border around the edge.\n",
       "> 4. Top the sauce with your favorite toppings.\n",
       "> 5. Bake the pizza in the preheated oven for 10-12 minutes, until the crust is golden brown and the cheese is melted and bubbly.\n",
       "> 6. Let the pizza cool for a few minutes before slicing and serving.\n",
       "> \n",
       "> **Tips for Making a Great Pizza:**\n",
       "> \n",
       "> * Use fresh, high-quality ingredients.\n",
       "> * Use a good quality pizza dough. You can make your own dough or buy it from a store.\n",
       "> * Don't overload the pizza with toppings. Too many toppings will make the pizza soggy.\n",
       "> * Bake the pizza at a high temperature. This will help to create a crispy crust.\n",
       "> * Let the pizza cool for a few minutes before slicing and serving. This will help to prevent the cheese from sliding off the pizza.\n",
       "> \n",
       "> Pizza is a delicious and versatile dish that can be enjoyed by people of all ages. With a little bit of planning and effort, you can make a great pizza at home. So next time you're looking for a quick and easy meal, or a fun and festive dish for a party, consider making a pizza. You won't be disappointed."
      ],
      "text/plain": [
       "<IPython.core.display.Markdown object>"
      ]
     },
     "execution_count": 12,
     "metadata": {},
     "output_type": "execute_result"
    }
   ],
   "source": [
    "response.resolve()\n",
    "to_markdown(response.text)"
   ]
  }
 ],
 "metadata": {
  "kernelspec": {
   "display_name": "Python 3 (ipykernel)",
   "language": "python",
   "name": "python3"
  },
  "language_info": {
   "codemirror_mode": {
    "name": "ipython",
    "version": 3
   },
   "file_extension": ".py",
   "mimetype": "text/x-python",
   "name": "python",
   "nbconvert_exporter": "python",
   "pygments_lexer": "ipython3",
   "version": "3.11.5"
  }
 },
 "nbformat": 4,
 "nbformat_minor": 5
}
