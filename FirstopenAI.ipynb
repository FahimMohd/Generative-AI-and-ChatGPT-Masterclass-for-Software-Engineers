{
 "cells": [
  {
   "cell_type": "code",
   "execution_count": 1,
   "id": "eb1a1689-8a7d-4c4d-8ce4-43fe8cf77285",
   "metadata": {},
   "outputs": [
    {
     "name": "stdout",
     "output_type": "stream",
     "text": [
      "Requirement already satisfied: openai in c:\\users\\fahim\\appdata\\local\\programs\\python\\python311\\lib\\site-packages (1.2.4)\n",
      "Requirement already satisfied: anyio<4,>=3.5.0 in c:\\users\\fahim\\appdata\\local\\programs\\python\\python311\\lib\\site-packages (from openai) (3.7.1)\n",
      "Requirement already satisfied: distro<2,>=1.7.0 in c:\\users\\fahim\\appdata\\local\\programs\\python\\python311\\lib\\site-packages (from openai) (1.8.0)\n",
      "Requirement already satisfied: httpx<1,>=0.23.0 in c:\\users\\fahim\\appdata\\local\\programs\\python\\python311\\lib\\site-packages (from openai) (0.25.1)\n",
      "Requirement already satisfied: pydantic<3,>=1.9.0 in c:\\users\\fahim\\appdata\\local\\programs\\python\\python311\\lib\\site-packages (from openai) (2.4.2)\n",
      "Requirement already satisfied: tqdm>4 in c:\\users\\fahim\\appdata\\local\\programs\\python\\python311\\lib\\site-packages (from openai) (4.66.1)\n",
      "Requirement already satisfied: typing-extensions<5,>=4.5 in c:\\users\\fahim\\appdata\\local\\programs\\python\\python311\\lib\\site-packages (from openai) (4.8.0)\n",
      "Requirement already satisfied: idna>=2.8 in c:\\users\\fahim\\appdata\\local\\programs\\python\\python311\\lib\\site-packages (from anyio<4,>=3.5.0->openai) (3.4)\n",
      "Requirement already satisfied: sniffio>=1.1 in c:\\users\\fahim\\appdata\\local\\programs\\python\\python311\\lib\\site-packages (from anyio<4,>=3.5.0->openai) (1.3.0)\n",
      "Requirement already satisfied: certifi in c:\\users\\fahim\\appdata\\local\\programs\\python\\python311\\lib\\site-packages (from httpx<1,>=0.23.0->openai) (2023.7.22)\n",
      "Requirement already satisfied: httpcore in c:\\users\\fahim\\appdata\\local\\programs\\python\\python311\\lib\\site-packages (from httpx<1,>=0.23.0->openai) (1.0.2)\n",
      "Requirement already satisfied: annotated-types>=0.4.0 in c:\\users\\fahim\\appdata\\local\\programs\\python\\python311\\lib\\site-packages (from pydantic<3,>=1.9.0->openai) (0.5.0)\n",
      "Requirement already satisfied: pydantic-core==2.10.1 in c:\\users\\fahim\\appdata\\local\\programs\\python\\python311\\lib\\site-packages (from pydantic<3,>=1.9.0->openai) (2.10.1)\n",
      "Requirement already satisfied: colorama in c:\\users\\fahim\\appdata\\local\\programs\\python\\python311\\lib\\site-packages (from tqdm>4->openai) (0.4.6)\n",
      "Requirement already satisfied: h11<0.15,>=0.13 in c:\\users\\fahim\\appdata\\local\\programs\\python\\python311\\lib\\site-packages (from httpcore->httpx<1,>=0.23.0->openai) (0.14.0)\n",
      "Note: you may need to restart the kernel to use updated packages.\n"
     ]
    },
    {
     "name": "stderr",
     "output_type": "stream",
     "text": [
      "\n",
      "[notice] A new release of pip is available: 23.2.1 -> 23.3.1\n",
      "[notice] To update, run: python.exe -m pip install --upgrade pip\n"
     ]
    }
   ],
   "source": [
    "pip install openai"
   ]
  },
  {
   "cell_type": "code",
   "execution_count": 2,
   "id": "a75c1a7e-a0ae-4b43-81bb-4695e017ab56",
   "metadata": {},
   "outputs": [],
   "source": [
    "from openai import OpenAI"
   ]
  },
  {
   "cell_type": "code",
   "execution_count": 3,
   "id": "7db3a59d-33c6-47a0-9bc1-8965af526330",
   "metadata": {},
   "outputs": [],
   "source": [
    "import os"
   ]
  },
  {
   "cell_type": "code",
   "execution_count": 4,
   "id": "3dacb543-1700-43f9-9559-0c5ba7e73629",
   "metadata": {},
   "outputs": [],
   "source": [
    "OpenAI.api_key = os.getenv('OPENAI_API_KEY')"
   ]
  },
  {
   "cell_type": "code",
   "execution_count": 5,
   "id": "94d7c062-d9ac-40e8-8153-ac63e8e0049e",
   "metadata": {},
   "outputs": [],
   "source": [
    "client = OpenAI()"
   ]
  },
  {
   "cell_type": "code",
   "execution_count": 7,
   "id": "652c0cf9-7d73-45bb-b286-0b3c52596640",
   "metadata": {},
   "outputs": [],
   "source": [
    "response = client.chat.completions.create(\n",
    "    model=\"gpt-3.5-turbo\",\n",
    "    messages =[\n",
    "        {\"role\" : \"system\", \"content\" : \"You are a helpful assistant.\"},\n",
    "        {\"role\" : \"user\", \"content\" : \"Tell me something about Life\"}\n",
    "    ]\n",
    ")"
   ]
  },
  {
   "cell_type": "code",
   "execution_count": 8,
   "id": "44dd48dc-fac7-4402-866a-36d54b02a969",
   "metadata": {},
   "outputs": [
    {
     "name": "stdout",
     "output_type": "stream",
     "text": [
      "ChatCompletion(id='chatcmpl-8L9mgFGWeq4gvpnWXmceO0pQdpYko', choices=[Choice(finish_reason='stop', index=0, message=ChatCompletionMessage(content='Life is an incredibly diverse and complex phenomenon that can be found in many forms on Earth. It encompasses all living organisms, from microscopic bacteria to towering trees and majestic animals. Life is characterized by various biological processes such as growth, reproduction, metabolism, and response to stimuli. It is also deeply interconnected, with each organism and species playing a vital role in the overall balance and functioning of ecosystems. Life can be found in the most extreme environments, adapting and surviving in conditions that would seem impossible. It is a constant journey of evolution and adaptation, where species continually change and diversify over millions of years. Ultimately, life is a precious and fragile gift that should be cherished and protected.', role='assistant', function_call=None, tool_calls=None))], created=1700053190, model='gpt-3.5-turbo-0613', object='chat.completion', system_fingerprint=None, usage=CompletionUsage(completion_tokens=136, prompt_tokens=22, total_tokens=158))\n"
     ]
    }
   ],
   "source": [
    "print(response)"
   ]
  },
  {
   "cell_type": "code",
   "execution_count": 9,
   "id": "90d735d4-b841-465b-ac91-e0c0f06041f6",
   "metadata": {},
   "outputs": [
    {
     "name": "stdout",
     "output_type": "stream",
     "text": [
      "Life is an incredibly diverse and complex phenomenon that can be found in many forms on Earth. It encompasses all living organisms, from microscopic bacteria to towering trees and majestic animals. Life is characterized by various biological processes such as growth, reproduction, metabolism, and response to stimuli. It is also deeply interconnected, with each organism and species playing a vital role in the overall balance and functioning of ecosystems. Life can be found in the most extreme environments, adapting and surviving in conditions that would seem impossible. It is a constant journey of evolution and adaptation, where species continually change and diversify over millions of years. Ultimately, life is a precious and fragile gift that should be cherished and protected.\n"
     ]
    }
   ],
   "source": [
    "print(response.choices[0].message.content)"
   ]
  }
 ],
 "metadata": {
  "kernelspec": {
   "display_name": "Python 3 (ipykernel)",
   "language": "python",
   "name": "python3"
  },
  "language_info": {
   "codemirror_mode": {
    "name": "ipython",
    "version": 3
   },
   "file_extension": ".py",
   "mimetype": "text/x-python",
   "name": "python",
   "nbconvert_exporter": "python",
   "pygments_lexer": "ipython3",
   "version": "3.11.5"
  }
 },
 "nbformat": 4,
 "nbformat_minor": 5
}
