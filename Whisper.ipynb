{
 "cells": [
  {
   "cell_type": "code",
   "execution_count": 1,
   "id": "9ed8a2c8-7aac-4048-b9ae-21b9f98e603c",
   "metadata": {},
   "outputs": [
    {
     "name": "stdout",
     "output_type": "stream",
     "text": [
      "Requirement already satisfied: openai in c:\\users\\fahim\\appdata\\local\\programs\\python\\python311\\lib\\site-packages (1.2.4)\n",
      "Requirement already satisfied: anyio<4,>=3.5.0 in c:\\users\\fahim\\appdata\\local\\programs\\python\\python311\\lib\\site-packages (from openai) (3.7.1)\n",
      "Requirement already satisfied: distro<2,>=1.7.0 in c:\\users\\fahim\\appdata\\local\\programs\\python\\python311\\lib\\site-packages (from openai) (1.8.0)\n",
      "Requirement already satisfied: httpx<1,>=0.23.0 in c:\\users\\fahim\\appdata\\local\\programs\\python\\python311\\lib\\site-packages (from openai) (0.25.1)\n",
      "Requirement already satisfied: pydantic<3,>=1.9.0 in c:\\users\\fahim\\appdata\\local\\programs\\python\\python311\\lib\\site-packages (from openai) (1.10.13)\n",
      "Requirement already satisfied: tqdm>4 in c:\\users\\fahim\\appdata\\local\\programs\\python\\python311\\lib\\site-packages (from openai) (4.66.1)\n",
      "Requirement already satisfied: typing-extensions<5,>=4.5 in c:\\users\\fahim\\appdata\\local\\programs\\python\\python311\\lib\\site-packages (from openai) (4.8.0)\n",
      "Requirement already satisfied: idna>=2.8 in c:\\users\\fahim\\appdata\\local\\programs\\python\\python311\\lib\\site-packages (from anyio<4,>=3.5.0->openai) (3.4)\n",
      "Requirement already satisfied: sniffio>=1.1 in c:\\users\\fahim\\appdata\\local\\programs\\python\\python311\\lib\\site-packages (from anyio<4,>=3.5.0->openai) (1.3.0)\n",
      "Requirement already satisfied: certifi in c:\\users\\fahim\\appdata\\local\\programs\\python\\python311\\lib\\site-packages (from httpx<1,>=0.23.0->openai) (2023.7.22)\n",
      "Requirement already satisfied: httpcore in c:\\users\\fahim\\appdata\\local\\programs\\python\\python311\\lib\\site-packages (from httpx<1,>=0.23.0->openai) (1.0.2)\n",
      "Requirement already satisfied: colorama in c:\\users\\fahim\\appdata\\local\\programs\\python\\python311\\lib\\site-packages (from tqdm>4->openai) (0.4.6)\n",
      "Requirement already satisfied: h11<0.15,>=0.13 in c:\\users\\fahim\\appdata\\local\\programs\\python\\python311\\lib\\site-packages (from httpcore->httpx<1,>=0.23.0->openai) (0.14.0)\n",
      "Note: you may need to restart the kernel to use updated packages.\n"
     ]
    },
    {
     "name": "stderr",
     "output_type": "stream",
     "text": [
      "\n",
      "[notice] A new release of pip is available: 23.2.1 -> 23.3.1\n",
      "[notice] To update, run: python.exe -m pip install --upgrade pip\n"
     ]
    }
   ],
   "source": [
    "pip install openai"
   ]
  },
  {
   "cell_type": "code",
   "execution_count": 2,
   "id": "887105f6-8d77-4a95-acb3-3090da0c0347",
   "metadata": {},
   "outputs": [],
   "source": [
    "import os\n",
    "from openai import OpenAI\n",
    "OpenAI.api_key = os.getenv('OPENAI_API_KEY')\n",
    "client = OpenAI()"
   ]
  },
  {
   "cell_type": "code",
   "execution_count": 3,
   "id": "62718f34-e965-43fc-95bf-98ff9bd3ede0",
   "metadata": {},
   "outputs": [
    {
     "name": "stdout",
     "output_type": "stream",
     "text": [
      "Requirement already satisfied: pyaudio in c:\\users\\fahim\\appdata\\local\\programs\\python\\python311\\lib\\site-packages (0.2.14)\n",
      "Note: you may need to restart the kernel to use updated packages.\n"
     ]
    },
    {
     "name": "stderr",
     "output_type": "stream",
     "text": [
      "\n",
      "[notice] A new release of pip is available: 23.2.1 -> 23.3.1\n",
      "[notice] To update, run: python.exe -m pip install --upgrade pip\n"
     ]
    }
   ],
   "source": [
    "pip install pyaudio"
   ]
  },
  {
   "cell_type": "code",
   "execution_count": 5,
   "id": "9e83c980-cb2c-4180-8085-b0b5767c5149",
   "metadata": {},
   "outputs": [],
   "source": [
    "# Record Some audio\n",
    "\n",
    "import wave\n",
    "import sys\n",
    "import pyaudio\n",
    "\n",
    "CHUNK = 1024\n",
    "FORMAT = pyaudio.paInt16\n",
    "CHANNELS = 1\n",
    "RATE = 44100\n",
    "\n",
    "\n",
    "def record_audio(seconds: int):\n",
    "    output_path = \"output.wav\"\n",
    "    with wave.open(output_path, \"wb\") as wf:\n",
    "        p = pyaudio.PyAudio()\n",
    "        wf.setnchannels(CHANNELS)\n",
    "        wf.setsampwidth(p.get_sample_size(FORMAT))\n",
    "        wf.setframerate(RATE)\n",
    "\n",
    "        stream = p.open(format=FORMAT, channels=CHANNELS, rate=RATE, input=True)\n",
    "\n",
    "        print(\"Recording...\")\n",
    "        for index in range(0, RATE // CHUNK * seconds):\n",
    "            if index % (RATE // CHUNK) == 0:\n",
    "                print(f\"{index // (RATE // CHUNK)} / {seconds}s\")\n",
    "            wf.writeframes(stream.read(CHUNK))\n",
    "        print(\"Done\")\n",
    "\n",
    "        stream.close()\n",
    "        p.terminate()\n",
    "    print(f\"File saved at {output_path}\")\n",
    "    return output_path"
   ]
  },
  {
   "cell_type": "code",
   "execution_count": 6,
   "id": "156cc4aa-a3e5-4001-9168-d39143c96e96",
   "metadata": {},
   "outputs": [
    {
     "name": "stdout",
     "output_type": "stream",
     "text": [
      "Recording...\n",
      "0 / 10s\n",
      "1 / 10s\n",
      "2 / 10s\n",
      "3 / 10s\n",
      "4 / 10s\n",
      "5 / 10s\n",
      "6 / 10s\n",
      "7 / 10s\n",
      "8 / 10s\n",
      "9 / 10s\n",
      "Done\n",
      "File saved at output.wav\n"
     ]
    },
    {
     "data": {
      "text/plain": [
       "'output.wav'"
      ]
     },
     "execution_count": 6,
     "metadata": {},
     "output_type": "execute_result"
    }
   ],
   "source": [
    "record_audio(10)"
   ]
  },
  {
   "cell_type": "code",
   "execution_count": 7,
   "id": "52b65f98-4f0d-4b64-b8e7-605ff51ebd21",
   "metadata": {},
   "outputs": [],
   "source": [
    "from openai import OpenAI\n",
    "client = OpenAI()\n",
    "\n",
    "audio_file = open(\"output.wav\", \"rb\")\n",
    "transcript = client.audio.transcriptions.create(\n",
    "  model=\"whisper-1\", \n",
    "  file=audio_file, \n",
    "  response_format=\"text\"\n",
    ")"
   ]
  },
  {
   "cell_type": "code",
   "execution_count": 8,
   "id": "76a4499e-23df-43b1-8c66-1369631098d7",
   "metadata": {},
   "outputs": [
    {
     "name": "stdout",
     "output_type": "stream",
     "text": [
      "this is test for whisper where we are going to record 10 seconds of clip and then we are going to convert it to text\n",
      "\n"
     ]
    }
   ],
   "source": [
    "print(transcript)"
   ]
  }
 ],
 "metadata": {
  "kernelspec": {
   "display_name": "Python 3 (ipykernel)",
   "language": "python",
   "name": "python3"
  },
  "language_info": {
   "codemirror_mode": {
    "name": "ipython",
    "version": 3
   },
   "file_extension": ".py",
   "mimetype": "text/x-python",
   "name": "python",
   "nbconvert_exporter": "python",
   "pygments_lexer": "ipython3",
   "version": "3.11.5"
  }
 },
 "nbformat": 4,
 "nbformat_minor": 5
}
